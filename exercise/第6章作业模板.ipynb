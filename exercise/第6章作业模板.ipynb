{
 "cells": [
  {
   "cell_type": "markdown",
   "metadata": {},
   "source": [
    "## 《Python数据分析基础》DaPy\n",
    "### 【第6章 数据的统计分析】数据与练习6 \n",
    "#### **（请在#下面问题的空白处写出代码并输出结果）**"
   ]
  },
  {
   "cell_type": "markdown",
   "metadata": {},
   "source": [
    "---"
   ]
  },
  {
   "cell_type": "markdown",
   "metadata": {},
   "source": [
    "6.1 抽样调查表明，考生的外语成绩（100分制）近似服从正态分布，平均成绩为72分，96分以上考生占总数的2.3%。"
   ]
  },
  {
   "cell_type": "code",
   "execution_count": null,
   "metadata": {},
   "outputs": [],
   "source": [
    "# 试求考生外语成绩在60～84分之间的概率\n"
   ]
  },
  {
   "cell_type": "markdown",
   "metadata": {},
   "source": [
    "6.2 从某厂生产的一批铆钉中随机抽取10个，测得其直径分别为13.35,13.38, 13.40, 13.43, 13.32, 13.48, 13.34, 13. 47, 13.44, 13.50。"
   ]
  },
  {
   "cell_type": "code",
   "execution_count": null,
   "metadata": {},
   "outputs": [],
   "source": [
    "# 试求铆钉头部直径这一总体的均值μ与标准差σ的估计。\n"
   ]
  },
  {
   "cell_type": "markdown",
   "metadata": {},
   "source": [
    "6.3 某送信服务公司登出广告，声称其本地信件传送时间不长于6小时，随机抽样其传送一包裹到一指定地址所花时间，数据为\n",
    "\n",
    "    7.2，3.5，4.3，6.2，l0.1，5.4，6.8，4.5，5.1，6.6，3.8和8.2小时。"
   ]
  },
  {
   "cell_type": "code",
   "execution_count": null,
   "metadata": {},
   "outputs": [],
   "source": [
    "# 求平均传送时间的95％置信度的置信区间。\n"
   ]
  },
  {
   "cell_type": "markdown",
   "metadata": {},
   "source": [
    "6.4 过去的大量资料显示，某厂生产的灯泡的使用寿命服从正态分布N(1 020，1002)。现从最近生产的一批产品中随机抽取16只，测得样本平均寿命为1 080小时。    "
   ]
  },
  {
   "cell_type": "code",
   "execution_count": null,
   "metadata": {},
   "outputs": [],
   "source": [
    "# 试在0.05的显著性水平下判断这批产品的使用寿命是否有显著提高？（α = 0.05）    "
   ]
  },
  {
   "cell_type": "markdown",
   "metadata": {},
   "source": [
    "6.5 一家制造商生产钢棒，为了提高质量，如果某新的生产工艺生产出的钢棒的断裂强度大于现有平均断裂强度标准，公司将采用该工艺。当前钢棒的平均断裂强度\n",
    "    标准是500千克，对新工艺生产的钢棒进行抽样检验，12件棒材的断裂强度如下：\n",
    "    \n",
    "    502，496，510，508，506，498，512，497，515，503，510，506千克。"
   ]
  },
  {
   "cell_type": "code",
   "execution_count": null,
   "metadata": {},
   "outputs": [],
   "source": [
    "# 假设断裂强度的分布比较近似于正态分布，问新工艺是否提高了平均断裂强度?\n"
   ]
  }
 ],
 "metadata": {
  "kernelspec": {
   "display_name": "Python 3",
   "language": "python",
   "name": "python3"
  },
  "language_info": {
   "codemirror_mode": {
    "name": "ipython",
    "version": 3
   },
   "file_extension": ".py",
   "mimetype": "text/x-python",
   "name": "python",
   "nbconvert_exporter": "python",
   "pygments_lexer": "ipython3",
   "version": "3.7.4"
  }
 },
 "nbformat": 4,
 "nbformat_minor": 4
}
