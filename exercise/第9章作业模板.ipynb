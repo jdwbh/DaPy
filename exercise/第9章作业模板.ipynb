{
 "cells": [
  {
   "cell_type": "markdown",
   "metadata": {},
   "source": [
    "## 《Python数据分析基础》DaPy\n",
    "### 【第9章 数据的决策分析】数据与练习9 \n",
    "#### **（请在#下面问题的空白处写出代码并输出结果）**"
   ]
  },
  {
   "cell_type": "markdown",
   "metadata": {},
   "source": [
    "---"
   ]
  },
  {
   "cell_type": "markdown",
   "metadata": {},
   "source": [
    "9.1 某电视机商家计划投入资金改进生产设备，以提高生产效率、降低生产成本来获取更多的经济收益，针对某种型号的\n",
    "    电视机，现拟订如下四个方案。计划改进设备后，该型号空调的销售单价为3000元/台，预计其年销售数量可达5000台。\n",
    "    该厂选择哪种方案可以获得最大收益？数据如下。\n",
    "    \n",
    "                    电视机商家计划投入资金情况\n",
    "      方案  设备投资（元）单件成本（元）年销售量（台）销售单价（元）\n",
    "      方案1  2500000  1600 5000 3000\n",
    "      方案2  3000000  1500 5000 3000\n",
    "      方案3  3500000  1400 5000 3000\n",
    "      方案4  3800000  1300 5000 3000"
   ]
  },
  {
   "cell_type": "code",
   "execution_count": null,
   "metadata": {},
   "outputs": [],
   "source": [
    " #（1）用单目标求解法进行决策分析；\n",
    "    "
   ]
  },
  {
   "cell_type": "code",
   "execution_count": null,
   "metadata": {},
   "outputs": [],
   "source": [
    "# （2）用多目标求解法进行决策分析。\n",
    "    "
   ]
  },
  {
   "cell_type": "markdown",
   "metadata": {},
   "source": [
    "9.2 上例的决策分析假设电视机年销售数量固定为5000台，但在实际情况中往往不知道\n",
    "    确切的市场需求，这种情况下，假设就可能出现三种自然状态：\n",
    "    \n",
    "   （1）当市场需求量大于预计销售量时，称其处于“畅销”状态，假设市场需求为8000台。\n",
    "   \n",
    "   （2）当市场需求量大致等于预计销售量时，称其处于“一般”状态，假设市场需求为5000台。\n",
    "   \n",
    "   （3）当市场需求量低于预计销售量时，称其处于“滞销”状态，假设市场需求为2000台。"
   ]
  },
  {
   "cell_type": "code",
   "execution_count": 2,
   "metadata": {},
   "outputs": [],
   "source": [
    "# 试用不确定性决策分析中的乐观原则、悲观原则、折中原则和后悔原则对这些方案进行决策分析。\n"
   ]
  },
  {
   "cell_type": "markdown",
   "metadata": {},
   "source": [
    "9.3 在上例中，商家有可能不能确定该型号的电视机将来的市场需求量，但是可以根据市场调研或者相关的\n",
    "   历史销售数据得出，这三种状态出现的概率分别为：\n",
    "   \n",
    "   畅销（0.15）、一般（0.50）、滞销（0.35）。"
   ]
  },
  {
   "cell_type": "code",
   "execution_count": null,
   "metadata": {},
   "outputs": [],
   "source": [
    "# 试用概率风险决策分析的期望值法和后悔期望值法对这些方案进行决策分析。\n"
   ]
  }
 ],
 "metadata": {
  "kernelspec": {
   "display_name": "Python 3",
   "language": "python",
   "name": "python3"
  },
  "language_info": {
   "codemirror_mode": {
    "name": "ipython",
    "version": 3
   },
   "file_extension": ".py",
   "mimetype": "text/x-python",
   "name": "python",
   "nbconvert_exporter": "python",
   "pygments_lexer": "ipython3",
   "version": "3.7.4"
  }
 },
 "nbformat": 4,
 "nbformat_minor": 4
}
