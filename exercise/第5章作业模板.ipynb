{
 "cells": [
  {
   "cell_type": "markdown",
   "metadata": {},
   "source": [
    "## 《Python数据分析基础》DaPy\n",
    "### 【第5章 数据的可视化分析】数据与练习5 \n",
    "#### **（请在#下面问题的空白处写出代码并输出结果）**"
   ]
  },
  {
   "cell_type": "markdown",
   "metadata": {},
   "source": [
    "---"
   ]
  },
  {
   "cell_type": "markdown",
   "metadata": {},
   "source": [
    "5.1 试说明ggplot绘图系统的优点和缺点；试述本章介绍的三种绘图系统matplotlib，seaborn和ggplot的特点。"
   ]
  },
  {
   "cell_type": "code",
   "execution_count": null,
   "metadata": {},
   "outputs": [],
   "source": []
  },
  {
   "cell_type": "markdown",
   "metadata": {},
   "source": [
    "5.2 对一组50人的饮酒者所饮酒类进行调查，把饮酒者按红酒（1）、白酒（2）、黄酒（3）、啤酒（4）分成四类。调查数据如下：\n",
    "\n",
    "    3，4，1，1，3，4，3，3，1，3，2，1，2，1，3，4，1，1，3，4，3，3，1，3，2， 1，2，1，2，3，2，3，1，1，1，1，\n",
    "    4，3，1，2，3，2，3，1，1，1，1，4，3，1。"
   ]
  },
  {
   "cell_type": "code",
   "execution_count": null,
   "metadata": {},
   "outputs": [],
   "source": [
    "#请用matplotlib，seaborn和ggplot三种绘图系统绘制频数分布和统计图。\n"
   ]
  },
  {
   "cell_type": "markdown",
   "metadata": {},
   "source": [
    "5.3 economics数据集给出了美国经济增长变化的数据。该数据是数据框格式，由478行和6个变量组成，变量如下。\n",
    "\n",
    "    date：日期，单位为月份；psavert：个人存款率；pce：个人消费支出，单位为十亿美元；\n",
    "    uemploy：失业人数，单位为千人；unempmed：失业时间中位数，单位为周；pop：人口数，单位为千人。\n",
    "    请用matplotlib，seaborn和ggplot三种绘图系统绘制：    "
   ]
  },
  {
   "cell_type": "code",
   "execution_count": null,
   "metadata": {},
   "outputs": [],
   "source": [
    "#（1）以date为横坐标，unemploy/pop为纵坐标画折线图。\n"
   ]
  },
  {
   "cell_type": "code",
   "execution_count": null,
   "metadata": {},
   "outputs": [],
   "source": [
    "#（2）以date为横坐标，unempmed为纵坐标画折线图。\n"
   ]
  }
 ],
 "metadata": {
  "kernelspec": {
   "display_name": "Python 3",
   "language": "python",
   "name": "python3"
  },
  "language_info": {
   "codemirror_mode": {
    "name": "ipython",
    "version": 3
   },
   "file_extension": ".py",
   "mimetype": "text/x-python",
   "name": "python",
   "nbconvert_exporter": "python",
   "pygments_lexer": "ipython3",
   "version": "3.7.4"
  }
 },
 "nbformat": 4,
 "nbformat_minor": 4
}
