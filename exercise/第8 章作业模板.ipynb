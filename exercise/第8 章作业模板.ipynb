{
 "cells": [
  {
   "cell_type": "markdown",
   "metadata": {},
   "source": [
    "## 《Python数据分析基础》DaPy\n",
    "### 【第8章 数据的预测分析】数据与练习8 \n",
    "#### **（请在每一问下面空白处写出代码并输出结果）**"
   ]
  },
  {
   "cell_type": "markdown",
   "metadata": {},
   "source": [
    "8.1 AirPassengers数据集包含了1949～1960年间的月度国际航班乘客总人数的数据。该数据是时间序列格式，单位为千人。    "
   ]
  },
  {
   "cell_type": "code",
   "execution_count": null,
   "metadata": {},
   "outputs": [],
   "source": [
    "#（1）请画出该数据的折线图。\n"
   ]
  },
  {
   "cell_type": "code",
   "execution_count": null,
   "metadata": {},
   "outputs": [],
   "source": [
    "#（2）分别用趋势预测方法和平滑预测方法进行预测。\n"
   ]
  },
  {
   "cell_type": "markdown",
   "metadata": {},
   "source": [
    "8.2 BJsales数据集①包含了销售数据（BJsales）和其先行指标（BJsales.lead）的数据，数据是时间序列格式。    "
   ]
  },
  {
   "cell_type": "code",
   "execution_count": null,
   "metadata": {},
   "outputs": [],
   "source": [
    "#（1）请画出该数据的折线图。\n"
   ]
  },
  {
   "cell_type": "code",
   "execution_count": null,
   "metadata": {},
   "outputs": [],
   "source": [
    "#（2）分别用趋势预测方法和平滑预测方法进行预测。\n"
   ]
  },
  {
   "cell_type": "markdown",
   "metadata": {},
   "source": [
    "8.3 EuStockMarkets数据集包含了1991～1998年间欧洲主要股票交易市场的日收盘价。\n",
    "    该数据是时间序列格式，由1860行和4个变量构成。4个变量分别代表欧洲的4个主要股票市场：\n",
    "    Germany DAX (Ibis)，Switzerland SMI，France CAC，UK FTSE。"
   ]
  },
  {
   "cell_type": "code",
   "execution_count": null,
   "metadata": {},
   "outputs": [],
   "source": [
    "#（1）请画出该数据的折线图。\n"
   ]
  },
  {
   "cell_type": "code",
   "execution_count": null,
   "metadata": {},
   "outputs": [],
   "source": [
    "#（2）分别用趋势预测方法和平滑预测方法进行预测。\n"
   ]
  },
  {
   "cell_type": "markdown",
   "metadata": {},
   "source": [
    "8.4 JohnsonJohnson数据集①包含强生公司1960～1980年间的季度收入。该数据是时间序列格式。    "
   ]
  },
  {
   "cell_type": "code",
   "execution_count": null,
   "metadata": {},
   "outputs": [],
   "source": [
    "#（1）请画出该数据的折线图。\n"
   ]
  },
  {
   "cell_type": "code",
   "execution_count": null,
   "metadata": {},
   "outputs": [],
   "source": [
    "#（2）分别用趋势预测方法和平滑预测方法进行预测。\n"
   ]
  }
 ],
 "metadata": {
  "kernelspec": {
   "display_name": "Python 3",
   "language": "python",
   "name": "python3"
  },
  "language_info": {
   "codemirror_mode": {
    "name": "ipython",
    "version": 3
   },
   "file_extension": ".py",
   "mimetype": "text/x-python",
   "name": "python",
   "nbconvert_exporter": "python",
   "pygments_lexer": "ipython3",
   "version": "3.7.4"
  }
 },
 "nbformat": 4,
 "nbformat_minor": 4
}
