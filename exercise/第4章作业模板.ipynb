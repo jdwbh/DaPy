{
 "cells": [
  {
   "cell_type": "markdown",
   "metadata": {},
   "source": [
    "## 《Python数据分析基础》\n",
    "### 【第4章 数据的探索性分析】数据与练习4 \n",
    "#### **（请在#下面问题的空白处写出代码并输出结果）**"
   ]
  },
  {
   "cell_type": "markdown",
   "metadata": {},
   "source": [
    "---"
   ]
  },
  {
   "cell_type": "markdown",
   "metadata": {},
   "source": [
    "4.1 调查数据。某公司对财务部门人员是否抽烟进行调查，结果为：否，否，否，\n",
    "    是，是，否，否，是，否，是，否，否，是，是，否，是，否，否，是，是。"
   ]
  },
  {
   "cell_type": "code",
   "execution_count": null,
   "metadata": {},
   "outputs": [],
   "source": [
    "#（1）请用value_count函数统计人数，并绘制条图，按颜色区分是否。\n"
   ]
  },
  {
   "cell_type": "code",
   "execution_count": null,
   "metadata": {},
   "outputs": [],
   "source": [
    "#（2）请用自定义函数tab生成频数表和频数图。\n"
   ]
  },
  {
   "cell_type": "markdown",
   "metadata": {},
   "source": [
    "4.2 工资数据。上述企业财务部员工的月工资数据如下：\n",
    "\n",
    "    2050，2100，2200，2300，2350，2450，2500，2700，2900， 2850，3500，3800，2600，3000，3300，3200，4000，3100，4200，3500。"
   ]
  },
  {
   "cell_type": "code",
   "execution_count": null,
   "metadata": {},
   "outputs": [],
   "source": [
    "#（1）试用mean、median、var、sd函数求数据的均值、中位数、方差、标准差。\n"
   ]
  },
  {
   "cell_type": "code",
   "execution_count": null,
   "metadata": {},
   "outputs": [],
   "source": [
    "#（2）绘制该数据的散点图和直方图，应用hist函数构建自己的计量频数表函数。\n"
   ]
  },
  {
   "cell_type": "code",
   "execution_count": null,
   "metadata": {},
   "outputs": [],
   "source": [
    "#（3）请用自定义函数freq生成频数表和频数图。\n"
   ]
  },
  {
   "cell_type": "markdown",
   "metadata": {},
   "source": [
    "4.3 经理年薪。收集某沿海发达城市2015年66个年薪超过10万元的公司经理的收入（单位：万元）为\n",
    "\n",
    "    11，19，14，22，14，28，13，81，12，43，11，16，31，16，23，42，22，26，17，22， 13，27，108，16，\n",
    "    43，82，14，11，51，76，28，66，29，14，14，65，37，16，37，35，39，27，14，17，13，38，28，40，\n",
    "    85，32，25，26，16，120，54，40，18，27，16，14，33，29，77，50，19，34。"
   ]
  },
  {
   "cell_type": "code",
   "execution_count": null,
   "metadata": {},
   "outputs": [],
   "source": [
    "#（1）可以对这些薪酬的分布状况作何分析？\n"
   ]
  },
  {
   "cell_type": "code",
   "execution_count": null,
   "metadata": {},
   "outputs": [],
   "source": [
    "#（2）试通过编写计算基本统计量的函数来分析数据的集中趋势和离散程度。\n"
   ]
  },
  {
   "cell_type": "code",
   "execution_count": null,
   "metadata": {},
   "outputs": [],
   "source": [
    "#（3）试分析为何该数据的均值和中位数差别如此之大，方差、标准差在此有何作用？如何正确分析该数据的集中趋势和离散程度？\n"
   ]
  },
  {
   "cell_type": "code",
   "execution_count": null,
   "metadata": {},
   "outputs": [],
   "source": [
    "#（4）绘制该数据的散点图和直方图。\n"
   ]
  },
  {
   "cell_type": "code",
   "execution_count": null,
   "metadata": {},
   "outputs": [],
   "source": [
    "#（5）请用自定义函数freq生成频数表和频数图。\n"
   ]
  }
 ],
 "metadata": {
  "kernelspec": {
   "display_name": "Python 3",
   "language": "python",
   "name": "python3"
  },
  "language_info": {
   "codemirror_mode": {
    "name": "ipython",
    "version": 3
   },
   "file_extension": ".py",
   "mimetype": "text/x-python",
   "name": "python",
   "nbconvert_exporter": "python",
   "pygments_lexer": "ipython3",
   "version": "3.7.4"
  }
 },
 "nbformat": 4,
 "nbformat_minor": 4
}
