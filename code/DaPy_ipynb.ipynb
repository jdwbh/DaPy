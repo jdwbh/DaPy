{
 "cells": [
  {
   "cell_type": "markdown",
   "metadata": {
    "code_folding": [],
    "extensions": {
     "jupyter_dashboards": {
      "version": 1,
      "views": {
       "grid_default": {
        "col": 0,
        "height": 4,
        "hidden": false,
        "row": 0,
        "width": 4
       },
       "report_default": {}
      }
     }
    }
   },
   "source": [
    "# 《Python数据分析基础》\n",
    "    电子工业出版社 —— 王斌会 2018.10"
   ]
  },
  {
   "cell_type": "markdown",
   "metadata": {},
   "source": [
    "#<div style=\"width:420px;\"> <img style=\"float:left;\"src=\"封面.jpg\">"
   ]
  },
  {
   "cell_type": "code",
   "execution_count": null,
   "metadata": {},
   "outputs": [],
   "source": [
    "from IPython.display import IFrame\n",
    "IFrame(\"http://blog.leanote.com/dapy\",width=900,height=500)"
   ]
  },
  {
   "cell_type": "code",
   "execution_count": null,
   "metadata": {},
   "outputs": [],
   "source": [
    "from IPython.display import IFrame\n",
    "IFrame(\"大纲.pdf\",width=900,height=600)"
   ]
  },
  {
   "cell_type": "code",
   "execution_count": null,
   "metadata": {},
   "outputs": [],
   "source": [
    "url2='http://leanote.com/api/file/getAttach?fileId=5b10c63eab644114cd000a3c'\n",
    "import pandas as pd\n",
    "BSdata=pd.read_excel(url2,'BSdata'); BSdata #基本数据"
   ]
  },
  {
   "cell_type": "markdown",
   "metadata": {
    "code_folding": [],
    "extensions": {
     "jupyter_dashboards": {
      "version": 1,
      "views": {
       "grid_default": {
        "col": 4,
        "height": 4,
        "hidden": false,
        "row": 0,
        "width": 4
       },
       "report_default": {}
      }
     }
    }
   },
   "source": [
    "# 1 数据收集与整理"
   ]
  },
  {
   "cell_type": "code",
   "execution_count": null,
   "metadata": {},
   "outputs": [],
   "source": []
  },
  {
   "cell_type": "markdown",
   "metadata": {
    "extensions": {
     "jupyter_dashboards": {
      "version": 1,
      "views": {
       "grid_default": {
        "col": 8,
        "height": 4,
        "hidden": false,
        "row": 0,
        "width": 4
       },
       "report_default": {}
      }
     }
    },
    "hide_input": false,
    "slideshow": {
     "slide_type": "slide"
    },
    "toc-hr-collapsed": true
   },
   "source": [
    "## 1.3 Python编程基础"
   ]
  },
  {
   "cell_type": "code",
   "execution_count": null,
   "metadata": {
    "code_folding": [],
    "extensions": {
     "jupyter_dashboards": {
      "version": 1,
      "views": {
       "grid_default": {
        "hidden": true
       },
       "report_default": {}
      }
     }
    }
   },
   "outputs": [],
   "source": [
    "## 初始化\n",
    "#%run init.py\n",
    "from IPython.core.interactiveshell import InteractiveShell\n",
    "InteractiveShell.ast_node_interactivity = \"all\"  #多项输出"
   ]
  },
  {
   "cell_type": "markdown",
   "metadata": {
    "extensions": {
     "jupyter_dashboards": {
      "version": 1,
      "views": {
       "grid_default": {
        "col": 0,
        "height": 4,
        "hidden": false,
        "row": 4,
        "width": 4
       },
       "report_default": {}
      }
     }
    }
   },
   "source": [
    "### 1.3.1 Python编程入门\n",
    "#### 1.3.1.1 Python的工作目录"
   ]
  },
  {
   "cell_type": "code",
   "execution_count": null,
   "metadata": {
    "extensions": {
     "jupyter_dashboards": {
      "version": 1,
      "views": {
       "grid_default": {
        "hidden": true
       },
       "report_default": {}
      }
     }
    }
   },
   "outputs": [],
   "source": [
    "'''获得当前目录'''\n",
    "%pwd             \n",
    "'''改变工作目录'''\n",
    "%cd \"D:\\\\DaPy1\"  \n",
    "%pwd    "
   ]
  },
  {
   "cell_type": "markdown",
   "metadata": {
    "extensions": {
     "jupyter_dashboards": {
      "version": 1,
      "views": {
       "grid_default": {
        "col": 4,
        "height": 4,
        "hidden": false,
        "row": 4,
        "width": 4
       },
       "report_default": {}
      }
     }
    },
    "hide_input": false,
    "slideshow": {
     "slide_type": "slide"
    },
    "toc-hr-collapsed": true
   },
   "source": [
    "### 1.3.2 Python基本数据类型\n",
    "#### 1.3.2.1 数据对象及类型"
   ]
  },
  {
   "cell_type": "code",
   "execution_count": null,
   "metadata": {
    "extensions": {
     "jupyter_dashboards": {
      "version": 1,
      "views": {
       "grid_default": {
        "hidden": true
       },
       "report_default": {}
      }
     }
    },
    "hide_input": false,
    "slideshow": {
     "slide_type": "slide"
    }
   },
   "outputs": [],
   "source": [
    "#列举当前环境中的对象名\n",
    "%who\n",
    "x=10   #创建对象x\n",
    "%who\n",
    "del x   #删除对象x\n",
    "%who"
   ]
  },
  {
   "cell_type": "markdown",
   "metadata": {
    "extensions": {
     "jupyter_dashboards": {
      "version": 1,
      "views": {
       "grid_default": {
        "col": 8,
        "height": 4,
        "hidden": false,
        "row": 4,
        "width": 4
       },
       "report_default": {}
      }
     }
    },
    "hide_input": true
   },
   "source": [
    "##### 1.3.2.2 数据基本类型"
   ]
  },
  {
   "cell_type": "code",
   "execution_count": null,
   "metadata": {
    "extensions": {
     "jupyter_dashboards": {
      "version": 1,
      "views": {
       "grid_default": {
        "hidden": true
       },
       "report_default": {}
      }
     }
    },
    "hide_input": true,
    "scrolled": true
   },
   "outputs": [],
   "source": [
    "#数字\n",
    "n=10       #整数\n",
    "n\n",
    "print(\"n=\",n)\n",
    "x=10.234   #实数\n",
    "x\n",
    "print(\"x=%10.5f\"%x)"
   ]
  },
  {
   "cell_type": "code",
   "execution_count": null,
   "metadata": {
    "extensions": {
     "jupyter_dashboards": {
      "version": 1,
      "views": {
       "grid_default": {
        "hidden": true
       },
       "report_default": {}
      }
     }
    },
    "hide_input": true,
    "scrolled": true
   },
   "outputs": [],
   "source": [
    "# 字符串\n",
    "s = 'I love Python';s\n",
    "s[7]\n",
    "s[2:6]\n",
    "s+s\n",
    "s*2"
   ]
  },
  {
   "cell_type": "markdown",
   "metadata": {
    "extensions": {
     "jupyter_dashboards": {
      "version": 1,
      "views": {
       "grid_default": {
        "col": 0,
        "height": 4,
        "hidden": false,
        "row": 8,
        "width": 4
       },
       "report_default": {}
      }
     }
    }
   },
   "source": [
    "#### 1.3.3.3 标准数据类型"
   ]
  },
  {
   "cell_type": "code",
   "execution_count": null,
   "metadata": {
    "extensions": {
     "jupyter_dashboards": {
      "version": 1,
      "views": {
       "grid_default": {
        "hidden": true
       },
       "report_default": {}
      }
     }
    }
   },
   "outputs": [],
   "source": [
    "#（1）List（列表）\n",
    "[]           #空列表\n",
    "list=['Python',786,2.23,'R',70.2 ]; list # 输出完整列表\n",
    "list[0]            # 输出列表的第一个元素\n",
    "list[1:3]          # 输出第二个至第三个元素\n",
    "list[2:]           # 输出从第三个开始至列表末尾的所有元素\n",
    "list * 2           # 输出列表两次\n",
    "list + list[2:4]   # 打印组合的列表"
   ]
  },
  {
   "cell_type": "code",
   "execution_count": null,
   "metadata": {
    "extensions": {
     "jupyter_dashboards": {
      "version": 1,
      "views": {
       "grid_default": {
        "hidden": true
       },
       "report_default": {}
      }
     }
    }
   },
   "outputs": [],
   "source": [
    "X=[1,3,6,4,9]; X\n",
    "sex=['女','男','男','女','男']\n",
    "sex\n",
    "weight=[67,66,83,68,70];\n",
    "weight"
   ]
  },
  {
   "cell_type": "code",
   "execution_count": null,
   "metadata": {
    "extensions": {
     "jupyter_dashboards": {
      "version": 1,
      "views": {
       "grid_default": {
        "hidden": true
       },
       "report_default": {}
      }
     }
    }
   },
   "outputs": [],
   "source": [
    "{}            #空字典\n",
    "dict1={'name':'john','code':6734,'dept':'sales'};dict1 #定义字典\n",
    "dict1['code']  # 输出键为'code' 的值\n",
    "dict1.keys()   # 输出所有键\n",
    "dict1.values() # 输出所有值"
   ]
  },
  {
   "cell_type": "code",
   "execution_count": null,
   "metadata": {
    "extensions": {
     "jupyter_dashboards": {
      "version": 1,
      "views": {
       "grid_default": {
        "hidden": true
       },
       "report_default": {}
      }
     }
    }
   },
   "outputs": [],
   "source": [
    "dict2={'sex': sex,'weight':weight}; dict2 #根据列表构成字典"
   ]
  },
  {
   "cell_type": "markdown",
   "metadata": {
    "extensions": {
     "jupyter_dashboards": {
      "version": 1,
      "views": {
       "grid_default": {
        "col": 4,
        "height": 4,
        "hidden": false,
        "row": 8,
        "width": 4
       },
       "report_default": {}
      }
     }
    }
   },
   "source": [
    "#### 1.3.3.1 一维数组"
   ]
  },
  {
   "cell_type": "code",
   "execution_count": null,
   "metadata": {
    "extensions": {
     "jupyter_dashboards": {
      "version": 1,
      "views": {
       "grid_default": {
        "hidden": true
       },
       "report_default": {}
      }
     }
    }
   },
   "outputs": [],
   "source": [
    "np.array([1,2,3,4,5])    #一维数组\n",
    "np.array(X)              #列表变数组\n",
    "np.arange(9)             #数组序列\n",
    "np.arange(1,9,0.5)       #等差数列\n",
    "np.linspace(1,9,5)       #等距数列"
   ]
  },
  {
   "cell_type": "code",
   "execution_count": null,
   "metadata": {
    "extensions": {
     "jupyter_dashboards": {
      "version": 1,
      "views": {
       "grid_default": {
        "hidden": true
       },
       "report_default": {}
      }
     }
    }
   },
   "outputs": [],
   "source": [
    "np.random.randint(1,9)   #1~9随机数\n",
    "np.random.rand(10)       #10个均匀随机数\n",
    "np.random.randn(10)      #10个正态随机数"
   ]
  },
  {
   "cell_type": "markdown",
   "metadata": {
    "extensions": {
     "jupyter_dashboards": {
      "version": 1,
      "views": {
       "grid_default": {
        "col": 8,
        "height": 4,
        "hidden": false,
        "row": 8,
        "width": 4
       },
       "report_default": {}
      }
     }
    }
   },
   "source": [
    "#### 1.3.3.2 二维数组"
   ]
  },
  {
   "cell_type": "code",
   "execution_count": null,
   "metadata": {
    "extensions": {
     "jupyter_dashboards": {
      "version": 1,
      "views": {
       "grid_default": {
        "hidden": true
       },
       "report_default": {}
      }
     }
    }
   },
   "outputs": [],
   "source": [
    "np.array([[1,2,3,4,5],[1,2,3,4,5]])  #二维数组"
   ]
  },
  {
   "cell_type": "code",
   "execution_count": null,
   "metadata": {
    "extensions": {
     "jupyter_dashboards": {
      "version": 1,
      "views": {
       "grid_default": {
        "hidden": true
       },
       "report_default": {}
      }
     }
    }
   },
   "outputs": [],
   "source": [
    "####1.3.3.3. 数组的基本操作\n",
    "A=np.arange(9).reshape(3,3);A        #形成矩阵\n",
    "O=np.zeros((3,3));O                  #零矩阵\n",
    "J=np.ones((3,3));J                   #1矩阵\n",
    "I=np.eye(3);I                        #单位阵"
   ]
  },
  {
   "cell_type": "code",
   "execution_count": null,
   "metadata": {
    "extensions": {
     "jupyter_dashboards": {
      "version": 1,
      "views": {
       "grid_default": {
        "hidden": true
       },
       "report_default": {}
      }
     }
    },
    "hide_input": false,
    "scrolled": true
   },
   "outputs": [],
   "source": [
    "df = pd.DataFrame([1, 2, 3, 4, 5], columns=['cols'], index=['a','b','c','d','e'])\n",
    "print(df)"
   ]
  },
  {
   "cell_type": "code",
   "execution_count": null,
   "metadata": {
    "extensions": {
     "jupyter_dashboards": {
      "version": 1,
      "views": {
       "grid_default": {
        "hidden": true
       },
       "report_default": {}
      }
     }
    },
    "hide_input": false
   },
   "outputs": [],
   "source": [
    "BSdata=pd.read_excel('DaPy_data.xlsx','BSdata')  #读取数据\n",
    "BSdata.head(15)   #显示前5行"
   ]
  },
  {
   "cell_type": "code",
   "execution_count": null,
   "metadata": {
    "extensions": {
     "jupyter_dashboards": {
      "version": 1,
      "views": {
       "grid_default": {
        "hidden": true
       },
       "report_default": {}
      }
     }
    },
    "hide_input": false,
    "scrolled": true
   },
   "outputs": [],
   "source": [
    "BSdata.columns  #查看列名称 names(BSdata) or colnames(BSdata)"
   ]
  },
  {
   "cell_type": "code",
   "execution_count": null,
   "metadata": {
    "extensions": {
     "jupyter_dashboards": {
      "version": 1,
      "views": {
       "grid_default": {
        "hidden": true
       },
       "report_default": {}
      }
     }
    },
    "hide_input": true
   },
   "outputs": [],
   "source": [
    "BSdata.columns=['ID','setup','course','software','sex','height','weight','spend']\n",
    "BSdata.columns"
   ]
  },
  {
   "cell_type": "code",
   "execution_count": null,
   "metadata": {
    "extensions": {
     "jupyter_dashboards": {
      "version": 1,
      "views": {
       "grid_default": {
        "hidden": true
       },
       "report_default": {}
      }
     }
    },
    "hide_input": false,
    "scrolled": true
   },
   "outputs": [],
   "source": [
    "BSdata.index    #rownames(BSdata)  # row.names(BSdata)"
   ]
  },
  {
   "cell_type": "code",
   "execution_count": null,
   "metadata": {
    "extensions": {
     "jupyter_dashboards": {
      "version": 1,
      "views": {
       "grid_default": {
        "hidden": true
       },
       "report_default": {}
      }
     }
    },
    "scrolled": true
   },
   "outputs": [],
   "source": [
    "pd.concat([BSdata.身高, BSdata.体重],axis=1).head()"
   ]
  },
  {
   "cell_type": "code",
   "execution_count": null,
   "metadata": {
    "cell_style": "center",
    "extensions": {
     "jupyter_dashboards": {
      "version": 1,
      "views": {
       "grid_default": {
        "hidden": true
       },
       "report_default": {}
      }
     }
    },
    "scrolled": true
   },
   "outputs": [],
   "source": [
    "BSdata[BSdata['性别']=='男'][['性别','身高','体重']].head() "
   ]
  },
  {
   "cell_type": "code",
   "execution_count": null,
   "metadata": {
    "extensions": {
     "jupyter_dashboards": {
      "version": 1,
      "views": {
       "grid_default": {
        "hidden": true
       },
       "report_default": {}
      }
     }
    },
    "scrolled": true,
    "solution": "hidden",
    "solution_first": true
   },
   "outputs": [],
   "source": [
    "BSdata[(BSdata.性别=='男') & (BSdata.身高 > 180)][['性别','身高','体重']]"
   ]
  },
  {
   "cell_type": "code",
   "execution_count": null,
   "metadata": {
    "extensions": {
     "jupyter_dashboards": {
      "version": 1,
      "views": {
       "grid_default": {
        "hidden": true
       },
       "report_default": {}
      }
     }
    },
    "scrolled": true
   },
   "outputs": [],
   "source": [
    "BS1=BSdata.loc[:4,['学号','身高','体重']]  # BS1=BSdata[1:5,c('学号','身高','体重')]\n",
    "BS1"
   ]
  },
  {
   "cell_type": "code",
   "execution_count": null,
   "metadata": {
    "extensions": {
     "jupyter_dashboards": {
      "version": 1,
      "views": {
       "grid_default": {
        "hidden": true
       },
       "report_default": {}
      }
     }
    },
    "scrolled": true
   },
   "outputs": [],
   "source": [
    "BS2=BSdata.loc[1:5,['学号','身高','体重']] #BS2=BSdata[2:6, c('学号','身高','体重')]\n",
    "BS2"
   ]
  },
  {
   "cell_type": "code",
   "execution_count": null,
   "metadata": {
    "cell_style": "split",
    "extensions": {
     "jupyter_dashboards": {
      "version": 1,
      "views": {
       "grid_default": {
        "hidden": true
       },
       "report_default": {}
      }
     }
    },
    "scrolled": true
   },
   "outputs": [],
   "source": [
    "pd.concat([BS1,BS2],axis=0)  #rbind(BS1,BS2)"
   ]
  },
  {
   "cell_type": "code",
   "execution_count": null,
   "metadata": {
    "cell_style": "split",
    "extensions": {
     "jupyter_dashboards": {
      "version": 1,
      "views": {
       "grid_default": {
        "hidden": true
       },
       "report_default": {}
      }
     }
    },
    "scrolled": false
   },
   "outputs": [],
   "source": [
    "pd.concat([BS1,BS2],axis=1)  #cbind(BS1,BS2)"
   ]
  },
  {
   "cell_type": "code",
   "execution_count": null,
   "metadata": {
    "extensions": {
     "jupyter_dashboards": {
      "version": 1,
      "views": {
       "grid_default": {
        "hidden": true
       },
       "report_default": {}
      }
     }
    },
    "scrolled": true
   },
   "outputs": [],
   "source": [
    "import math  \n",
    "x=np.linspace(0,2*math.pi);x  #[0,2*pi]序列\n",
    "plt.plot(x,np.sin(x))         #plot(x,sin(x)) "
   ]
  },
  {
   "cell_type": "code",
   "execution_count": null,
   "metadata": {},
   "outputs": [],
   "source": [
    "pd.option_context('display.precision',1);\n",
    "lxx\n",
    "pd.set_option('display.precision',4)      #数据框输出4位小数              \n",
    "lxx"
   ]
  },
  {
   "cell_type": "code",
   "execution_count": null,
   "metadata": {
    "code_folding": [],
    "extensions": {
     "jupyter_dashboards": {
      "version": 1,
      "views": {
       "grid_default": {
        "hidden": true
       },
       "report_default": {}
      }
     }
    }
   },
   "outputs": [],
   "source": [
    "X=BSdata.身高\n",
    "def SS(x):\n",
    "  n=len(x);n\n",
    "  SS=(x**2).sum()-x.sum()**2/n\n",
    "  return(SS)\n",
    "lxx=SS(X);lxx\n",
    "round(lxx,4)\n",
    "pd.set_option('display.precision',4)      #数据框输出4位小数              \n",
    "lxx"
   ]
  },
  {
   "cell_type": "code",
   "execution_count": null,
   "metadata": {
    "extensions": {
     "jupyter_dashboards": {
      "version": 1,
      "views": {
       "grid_default": {
        "hidden": true
       },
       "report_default": {}
      }
     }
    },
    "scrolled": true
   },
   "outputs": [],
   "source": [
    "def Lstat(x): \n",
    "  return([len(x),x.min(),x.max(),x.mean(),x.std()])\n",
    "  \n",
    "LS=Lstat(X); LS         #LS为列表对象"
   ]
  },
  {
   "cell_type": "code",
   "execution_count": null,
   "metadata": {
    "extensions": {
     "jupyter_dashboards": {
      "version": 1,
      "views": {
       "grid_default": {
        "hidden": true
       },
       "report_default": {}
      }
     }
    },
    "scrolled": true
   },
   "outputs": [],
   "source": [
    "BSdata.describe()  #summary(BSdata)"
   ]
  },
  {
   "cell_type": "code",
   "execution_count": null,
   "metadata": {
    "extensions": {
     "jupyter_dashboards": {
      "version": 1,
      "views": {
       "grid_default": {
        "hidden": true
       },
       "report_default": {}
      }
     }
    },
    "scrolled": true
   },
   "outputs": [],
   "source": [
    "da.stats(BSdata.iloc[:,5:8])  #Stats(BSdata.ix[:,6])"
   ]
  },
  {
   "cell_type": "code",
   "execution_count": null,
   "metadata": {
    "extensions": {
     "jupyter_dashboards": {
      "version": 1,
      "views": {
       "grid_default": {
        "hidden": true
       },
       "report_default": {}
      }
     }
    },
    "scrolled": true
   },
   "outputs": [],
   "source": [
    "T1=BSdata.性别.value_counts().plt.bar();\n",
    "T1   #T1=table(BSdata$性别);T1"
   ]
  },
  {
   "cell_type": "code",
   "execution_count": null,
   "metadata": {
    "extensions": {
     "jupyter_dashboards": {
      "version": 1,
      "views": {
       "grid_default": {
        "hidden": true
       },
       "report_default": {}
      }
     }
    }
   },
   "outputs": [],
   "source": [
    "plt.bar(T1.index,T1)   #barplot(T1)"
   ]
  },
  {
   "cell_type": "code",
   "execution_count": null,
   "metadata": {
    "extensions": {
     "jupyter_dashboards": {
      "version": 1,
      "views": {
       "grid_default": {
        "hidden": true
       },
       "report_default": {}
      }
     }
    },
    "scrolled": true
   },
   "outputs": [],
   "source": [
    "plt.pie(T1)"
   ]
  },
  {
   "cell_type": "code",
   "execution_count": null,
   "metadata": {
    "extensions": {
     "jupyter_dashboards": {
      "version": 1,
      "views": {
       "grid_default": {
        "hidden": true
       },
       "report_default": {}
      }
     }
    },
    "scrolled": true
   },
   "outputs": [],
   "source": [
    "T2=BSdata['开设'].value_counts();T2   #T2=table(BSdata$开设);T2"
   ]
  },
  {
   "cell_type": "code",
   "execution_count": null,
   "metadata": {
    "extensions": {
     "jupyter_dashboards": {
      "version": 1,
      "views": {
       "grid_default": {
        "hidden": true
       },
       "report_default": {}
      }
     }
    },
    "scrolled": true
   },
   "outputs": [],
   "source": [
    "plt.subplot(121)   #par(mfrow=c(1,2))\n",
    "plt.bar(T2.index,T2)  #barplot(T2)\n",
    "plt.subplot(122)\n",
    "plt.bar(T2.index,T2,color=['red','blue','pink']) "
   ]
  },
  {
   "cell_type": "code",
   "execution_count": null,
   "metadata": {
    "extensions": {
     "jupyter_dashboards": {
      "version": 1,
      "views": {
       "grid_default": {
        "hidden": true
       },
       "report_default": {}
      }
     }
    },
    "scrolled": true
   },
   "outputs": [],
   "source": [
    "Y=[1,4,7,3,2,5,6]      #Y=c(1,4,7,3,2,5,6)\n",
    "plt.bar(Y,Y)"
   ]
  },
  {
   "cell_type": "code",
   "execution_count": null,
   "metadata": {
    "extensions": {
     "jupyter_dashboards": {
      "version": 1,
      "views": {
       "grid_default": {
        "hidden": true
       },
       "report_default": {}
      }
     }
    },
    "scrolled": true
   },
   "outputs": [],
   "source": [
    "X=['A','B','C','D','E','F','G']  #X=c('A','B','C','D','E','F','G')\n",
    "Y=[1,4,7,3,2,5,6]      #Y=c(1,4,7,3,2,5,6)\n",
    "plt.bar(X,Y);plt.show()           #barplot(Y,names.arg=X)"
   ]
  },
  {
   "cell_type": "code",
   "execution_count": null,
   "metadata": {
    "extensions": {
     "jupyter_dashboards": {
      "version": 1,
      "views": {
       "grid_default": {
        "hidden": true
       },
       "report_default": {}
      }
     }
    },
    "scrolled": true
   },
   "outputs": [],
   "source": [
    "#plt.scatter(BSdata.身高, BSdata.体重)\n",
    "plt.scatter(BSdata.height, BSdata.weight)"
   ]
  },
  {
   "cell_type": "code",
   "execution_count": null,
   "metadata": {
    "extensions": {
     "jupyter_dashboards": {
      "version": 1,
      "views": {
       "grid_default": {
        "hidden": true
       },
       "report_default": {}
      }
     }
    },
    "scrolled": true
   },
   "outputs": [],
   "source": [
    "import DaPy as da\n",
    "da.tab(BSdata.setup)  "
   ]
  },
  {
   "cell_type": "code",
   "execution_count": null,
   "metadata": {
    "extensions": {
     "jupyter_dashboards": {
      "version": 1,
      "views": {
       "grid_default": {
        "hidden": true
       },
       "report_default": {}
      }
     }
    },
    "hide_input": true,
    "scrolled": true
   },
   "outputs": [],
   "source": [
    "da.tab(BSdata['software'],plot=True)  "
   ]
  },
  {
   "cell_type": "code",
   "execution_count": null,
   "metadata": {
    "extensions": {
     "jupyter_dashboards": {
      "version": 1,
      "views": {
       "grid_default": {
        "hidden": true
       },
       "report_default": {}
      }
     }
    }
   },
   "outputs": [],
   "source": [
    "pd.crosstab(BSdata.setup,BSdata.course,margins=True)"
   ]
  },
  {
   "cell_type": "code",
   "execution_count": null,
   "metadata": {
    "extensions": {
     "jupyter_dashboards": {
      "version": 1,
      "views": {
       "grid_default": {
        "hidden": true
       },
       "report_default": {}
      }
     }
    },
    "scrolled": true
   },
   "outputs": [],
   "source": [
    "pd.crosstab(BSdata.开设,BSdata.课程,margins=True)"
   ]
  },
  {
   "cell_type": "code",
   "execution_count": null,
   "metadata": {
    "extensions": {
     "jupyter_dashboards": {
      "version": 1,
      "views": {
       "grid_default": {
        "hidden": true
       },
       "report_default": {}
      }
     }
    },
    "scrolled": true
   },
   "outputs": [],
   "source": [
    "BSdata.pivot_table('学号','开设','课程',aggfunc=len)"
   ]
  },
  {
   "cell_type": "code",
   "execution_count": null,
   "metadata": {
    "extensions": {
     "jupyter_dashboards": {
      "version": 1,
      "views": {
       "grid_default": {
        "hidden": true
       },
       "report_default": {}
      }
     }
    },
    "scrolled": true
   },
   "outputs": [],
   "source": [
    "pd.pivot_table(BSdata,index=[\"性别\",\"开设\"],aggfunc=len,margins=True)"
   ]
  },
  {
   "cell_type": "code",
   "execution_count": null,
   "metadata": {
    "extensions": {
     "jupyter_dashboards": {
      "version": 1,
      "views": {
       "grid_default": {
        "hidden": true
       },
       "report_default": {}
      }
     }
    },
    "scrolled": true
   },
   "outputs": [],
   "source": [
    "import ggplot as gp  #library(ggplot2)\n",
    "gp.qplot('height',data=BSdata, geom='histogram') "
   ]
  },
  {
   "cell_type": "code",
   "execution_count": null,
   "metadata": {
    "extensions": {
     "jupyter_dashboards": {
      "version": 1,
      "views": {
       "grid_default": {
        "hidden": true
       },
       "report_default": {}
      }
     }
    },
    "scrolled": true
   },
   "outputs": [],
   "source": [
    "gp.qplot('身高','体重',data=BSdata,color='性别',size='性别') "
   ]
  },
  {
   "cell_type": "code",
   "execution_count": null,
   "metadata": {
    "extensions": {
     "jupyter_dashboards": {
      "version": 1,
      "views": {
       "grid_default": {
        "hidden": true
       },
       "report_default": {}
      }
     }
    },
    "scrolled": true
   },
   "outputs": [],
   "source": [
    "gp.ggplot(BSdata,gp.aes(x='支出'))+gp.geom_line(gp.aes(y='身高'))+gp.geom_line(gp.aes(y='体重'))"
   ]
  },
  {
   "cell_type": "code",
   "execution_count": null,
   "metadata": {
    "extensions": {
     "jupyter_dashboards": {
      "version": 1,
      "views": {
       "grid_default": {
        "hidden": true
       },
       "report_default": {}
      }
     }
    },
    "scrolled": true,
    "slideshow": {
     "slide_type": "fragment"
    }
   },
   "outputs": [],
   "source": [
    "from math import sqrt,pi   #import math as *\n",
    "from scipy import stats  \n",
    "x=np.arange(-4,4,0.1)\n",
    "y=1/sqrt(2*pi)*np.exp(-x**2/2);y  #y=stats.norm.pdf(x,0,1);y  \n",
    "plt.plot(x,y)"
   ]
  },
  {
   "cell_type": "code",
   "execution_count": null,
   "metadata": {
    "extensions": {
     "jupyter_dashboards": {
      "version": 1,
      "views": {
       "grid_default": {
        "hidden": true
       },
       "report_default": {}
      }
     }
    },
    "scrolled": true,
    "slideshow": {
     "slide_type": "slide"
    }
   },
   "outputs": [],
   "source": [
    "x=np.arange(-4,4,0.1)\n",
    "yn=stats.norm.pdf(x,0,1)\n",
    "yt2=stats.t.pdf(x,2)\n",
    "yt10=stats.t.pdf(x,10)\n",
    "\n",
    "plt.plot(x,yn,'r-',x,yt2,'b.',x,yt10,'g-.')\n",
    "plt.legend([\"N(0,1)\",\"t(2)\",\"t(10)\"])"
   ]
  },
  {
   "cell_type": "code",
   "execution_count": null,
   "metadata": {
    "extensions": {
     "jupyter_dashboards": {
      "version": 1,
      "views": {
       "grid_default": {
        "hidden": true
       },
       "report_default": {}
      }
     }
    },
    "scrolled": true
   },
   "outputs": [],
   "source": [
    "from scipy import stats \n",
    "stats.ttest_1samp(BSdata['身高'], popmean = 170) "
   ]
  },
  {
   "cell_type": "code",
   "execution_count": null,
   "metadata": {
    "extensions": {
     "jupyter_dashboards": {
      "version": 1,
      "views": {
       "grid_default": {
        "hidden": true
       },
       "report_default": {}
      }
     }
    },
    "scrolled": true
   },
   "outputs": [],
   "source": [
    "BSdata.身高.corr(BSdata.体重)  "
   ]
  },
  {
   "cell_type": "code",
   "execution_count": null,
   "metadata": {
    "extensions": {
     "jupyter_dashboards": {
      "version": 1,
      "views": {
       "grid_default": {
        "hidden": true
       },
       "report_default": {}
      }
     }
    },
    "scrolled": true
   },
   "outputs": [],
   "source": [
    "BSdata[['身高','体重']].corr()"
   ]
  },
  {
   "cell_type": "code",
   "execution_count": null,
   "metadata": {
    "extensions": {
     "jupyter_dashboards": {
      "version": 1,
      "views": {
       "grid_default": {
        "hidden": true
       },
       "report_default": {}
      }
     }
    },
    "scrolled": true
   },
   "outputs": [],
   "source": [
    "BSdata.ix[:,5:8].corr() "
   ]
  },
  {
   "cell_type": "code",
   "execution_count": null,
   "metadata": {
    "extensions": {
     "jupyter_dashboards": {
      "version": 1,
      "views": {
       "grid_default": {
        "hidden": true
       },
       "report_default": {}
      }
     }
    },
    "scrolled": true
   },
   "outputs": [],
   "source": [
    "pd.scatter_matrix(BSdata.ix[:,5:8])"
   ]
  },
  {
   "cell_type": "code",
   "execution_count": null,
   "metadata": {
    "extensions": {
     "jupyter_dashboards": {
      "version": 1,
      "views": {
       "grid_default": {
        "hidden": true
       },
       "report_default": {}
      }
     }
    },
    "scrolled": true
   },
   "outputs": [],
   "source": [
    "plt.show()"
   ]
  },
  {
   "cell_type": "code",
   "execution_count": null,
   "metadata": {
    "extensions": {
     "jupyter_dashboards": {
      "version": 1,
      "views": {
       "grid_default": {
        "hidden": true
       },
       "report_default": {}
      }
     }
    },
    "scrolled": true
   },
   "outputs": [],
   "source": [
    "def lm(formula,data):\n",
    "    import statsmodels.formula.api as smf\n",
    "    fm=smf.ols(formula,data).fit()\n",
    "    return fm\n",
    "\n",
    "fm=lm('体重~身高', data=BSdata)  #fm=lm(体重~身高, data=BSdata);fm \n",
    "fm.summary()  #summary(fm)"
   ]
  },
  {
   "cell_type": "code",
   "execution_count": null,
   "metadata": {
    "extensions": {
     "jupyter_dashboards": {
      "version": 1,
      "views": {
       "grid_default": {
        "hidden": true
       },
       "report_default": {}
      }
     }
    },
    "scrolled": true
   },
   "outputs": [],
   "source": [
    "plt.plot(BSdata.身高, BSdata.体重,'.',BSdata.身高, fm.fittedvalues, 'r-');plt.show()"
   ]
  },
  {
   "cell_type": "code",
   "execution_count": null,
   "metadata": {
    "extensions": {
     "jupyter_dashboards": {
      "version": 1,
      "views": {
       "grid_default": {
        "hidden": true
       },
       "report_default": {}
      }
     }
    },
    "scrolled": true
   },
   "outputs": [],
   "source": [
    "lm('体重~身高',BSdata[BSdata.性别=='男']).summary()"
   ]
  },
  {
   "cell_type": "markdown",
   "metadata": {
    "extensions": {
     "jupyter_dashboards": {
      "version": 1,
      "views": {
       "grid_default": {
        "hidden": true
       },
       "report_default": {}
      }
     }
    }
   },
   "source": [
    "# 2 数据分析软件介绍\n",
    "## 2.1 数据分析软件简介"
   ]
  },
  {
   "cell_type": "markdown",
   "metadata": {
    "extensions": {
     "jupyter_dashboards": {
      "version": 1,
      "views": {
       "grid_default": {
        "hidden": true
       },
       "report_default": {}
      }
     }
    }
   },
   "source": [
    "## 2.2 Python语言介绍\n",
    "### Python简介\n",
    "### Python的功能\n",
    "### Python编程环境"
   ]
  },
  {
   "cell_type": "markdown",
   "metadata": {
    "extensions": {
     "jupyter_dashboards": {
      "version": 1,
      "views": {
       "grid_default": {
        "hidden": true
       },
       "report_default": {}
      }
     }
    }
   },
   "source": [
    "## 2.3 Python数据分析平台\n",
    "### Jupyter数据分析平台\n",
    "### Python在线分析平台"
   ]
  },
  {
   "cell_type": "markdown",
   "metadata": {
    "extensions": {
     "jupyter_dashboards": {
      "version": 1,
      "views": {
       "grid_default": {
        "hidden": true
       },
       "report_default": {}
      }
     }
    }
   },
   "source": [
    "## 2.4 Python编程入门\n",
    "### 2.4.1 Python的工作目录"
   ]
  },
  {
   "cell_type": "code",
   "execution_count": null,
   "metadata": {},
   "outputs": [],
   "source": [
    "%pwd"
   ]
  },
  {
   "cell_type": "code",
   "execution_count": null,
   "metadata": {},
   "outputs": [],
   "source": [
    "%cd \"D:/DaPy1\""
   ]
  },
  {
   "cell_type": "markdown",
   "metadata": {
    "extensions": {
     "jupyter_dashboards": {
      "version": 1,
      "views": {
       "grid_default": {
        "hidden": true
       },
       "report_default": {}
      }
     }
    }
   },
   "source": [
    "### 2.4.2 Python分析包（库）"
   ]
  },
  {
   "cell_type": "code",
   "execution_count": null,
   "metadata": {},
   "outputs": [],
   "source": [
    "from math import sqrt,log,pi\n",
    "import numpy as np\n",
    "import pandas as pd"
   ]
  },
  {
   "cell_type": "markdown",
   "metadata": {
    "extensions": {
     "jupyter_dashboards": {
      "version": 1,
      "views": {
       "grid_default": {
        "hidden": true
       },
       "report_default": {}
      }
     }
    },
    "toc-hr-collapsed": true
   },
   "source": [
    "# 第3章 Python编程基础\n",
    "## 3.1  Python数据类型\n",
    "### 3.1.1  Python对象"
   ]
  },
  {
   "cell_type": "code",
   "execution_count": null,
   "metadata": {},
   "outputs": [],
   "source": [
    "who"
   ]
  },
  {
   "cell_type": "code",
   "execution_count": null,
   "metadata": {},
   "outputs": [],
   "source": [
    "x=10.12"
   ]
  },
  {
   "cell_type": "code",
   "execution_count": null,
   "metadata": {},
   "outputs": [],
   "source": [
    "who"
   ]
  },
  {
   "cell_type": "code",
   "execution_count": null,
   "metadata": {},
   "outputs": [],
   "source": [
    "del ap, x"
   ]
  },
  {
   "cell_type": "code",
   "execution_count": null,
   "metadata": {},
   "outputs": [],
   "source": [
    "who"
   ]
  },
  {
   "cell_type": "markdown",
   "metadata": {},
   "source": [
    "### 3.1.2  数据的基本类型"
   ]
  },
  {
   "cell_type": "code",
   "execution_count": null,
   "metadata": {},
   "outputs": [],
   "source": [
    "n=10          #整数\n",
    "n             #无格式输出，相当于print(n)\n",
    "print(\"n=\",n) #有格式输出\n",
    "x=10.234      #实数\n",
    "print(x)\n",
    "print(\"x=%10.5f\"%x)"
   ]
  },
  {
   "cell_type": "code",
   "execution_count": null,
   "metadata": {},
   "outputs": [],
   "source": [
    "a=True;a\n",
    "b=False;b"
   ]
  },
  {
   "cell_type": "code",
   "execution_count": null,
   "metadata": {},
   "outputs": [],
   "source": [
    "10>3\n",
    "10<3"
   ]
  },
  {
   "cell_type": "code",
   "execution_count": null,
   "metadata": {},
   "outputs": [],
   "source": [
    "s = 'We love Python';s\n",
    "s[7]\n",
    "s[2:6]\n",
    "s+s\n",
    "s*2"
   ]
  },
  {
   "cell_type": "markdown",
   "metadata": {},
   "source": [
    "### 3.1.3  标准数据类型"
   ]
  },
  {
   "cell_type": "code",
   "execution_count": null,
   "metadata": {},
   "outputs": [],
   "source": [
    "list1 =[]           \t# 空列表\n",
    "list1\n",
    "list1 = ['Python', 786 , 2.23, 'R', 70.2]\n",
    "list1              \t# 输出完整列表\n",
    "list1[0]            \t# 输出列表的第一个元素\n",
    "list1[1:3]          \t# 输出第二个至第三个元素\n",
    "list1[2:]           \t# 输出从第三个开始至列表末尾的所有元素\n",
    "list1 * 2           \t# 输出列表两次\n",
    "list1 + list1[2:4]   \t# 打印组合的列表"
   ]
  },
  {
   "cell_type": "code",
   "execution_count": null,
   "metadata": {},
   "outputs": [],
   "source": [
    "[]\n",
    "['Python', 786, 2.23, 'R', 70.2]\n",
    "'Python'\n",
    "[786, 2.23]\n",
    "[2.23, 'R', 70.2]\n",
    "['Python', 786, 2.23, 'R', 70.2, 'Python', 786, 2.23, 'R', 70.2]\n",
    "['Python', 786, 2.23, 'R', 70.2, 2.23, 'R']"
   ]
  },
  {
   "cell_type": "code",
   "execution_count": null,
   "metadata": {},
   "outputs": [],
   "source": [
    "X=[1,3,6,4,9]; X\n",
    "sex=['女','男','男','女','男']\n",
    "sex\n",
    "weight=[67,66,83,68,70];\n",
    "weight"
   ]
  },
  {
   "cell_type": "code",
   "execution_count": null,
   "metadata": {},
   "outputs": [],
   "source": [
    "[1, 3, 6, 4, 9]\n",
    "['女', '男', '男', '女', '男']\n",
    "[67, 66, 83, 68, 70]"
   ]
  },
  {
   "cell_type": "code",
   "execution_count": null,
   "metadata": {},
   "outputs": [],
   "source": [
    "{}             #空字典\n",
    "dict1={'name':'john','code':6734,'dept':'sales'};dict1 \t#定义字典\n",
    "dict1['code']  # 输出键为'code' 的值\n",
    "dict1.keys()   # 输出所有键\n",
    "dict1.values() # 输出所有值"
   ]
  },
  {
   "cell_type": "code",
   "execution_count": null,
   "metadata": {},
   "outputs": [],
   "source": [
    "dict2={'sex': sex,'weight':weight}; dict2  \t\t\t#根据列表构成字典"
   ]
  },
  {
   "cell_type": "markdown",
   "metadata": {},
   "source": [
    "## 3.2  数值分析库numpy\n",
    "### 3.2.1  一维数组（向量）"
   ]
  },
  {
   "cell_type": "code",
   "execution_count": null,
   "metadata": {},
   "outputs": [],
   "source": [
    "import numpy as np      \t\t\t#加载数组包\n",
    "np.array([1,2,3,4,5])      \t\t\t#一维数组"
   ]
  },
  {
   "cell_type": "code",
   "execution_count": null,
   "metadata": {},
   "outputs": [],
   "source": [
    "np.array([1,2,3,np.nan,5]) \t\t\t#包含缺失值的数组"
   ]
  },
  {
   "cell_type": "code",
   "execution_count": null,
   "metadata": {},
   "outputs": [],
   "source": [
    "np.arange(9)          \t\t\t#数组序列\n",
    "np.arange(1,9,0.5)      \t\t\t#等差数列\n",
    "np.linspace(1,9,5)      \t\t\t#等距数列"
   ]
  },
  {
   "cell_type": "code",
   "execution_count": null,
   "metadata": {},
   "outputs": [],
   "source": [
    "np.array([[1,2],[3,4],[5,6]])         #二维数组"
   ]
  },
  {
   "cell_type": "code",
   "execution_count": null,
   "metadata": {},
   "outputs": [],
   "source": [
    "A=np.arange(9).reshape((3,3));A    #形成3×3矩阵"
   ]
  },
  {
   "cell_type": "code",
   "execution_count": null,
   "metadata": {},
   "outputs": [],
   "source": [
    "A.shape                       "
   ]
  },
  {
   "cell_type": "code",
   "execution_count": null,
   "metadata": {},
   "outputs": [],
   "source": [
    "np.empty([3,3])                  #空数组"
   ]
  },
  {
   "cell_type": "code",
   "execution_count": null,
   "metadata": {},
   "outputs": [],
   "source": [
    "np.zeros((3,3))                  #零矩阵"
   ]
  },
  {
   "cell_type": "code",
   "execution_count": null,
   "metadata": {},
   "outputs": [],
   "source": [
    "np.ones((3,3))                   #1矩阵"
   ]
  },
  {
   "cell_type": "code",
   "execution_count": null,
   "metadata": {},
   "outputs": [],
   "source": [
    "np.eye(3)                        #单位阵"
   ]
  },
  {
   "cell_type": "markdown",
   "metadata": {},
   "source": [
    "## 3.3  数据分析库pandas\n",
    "### 3.3.1  序列：Series"
   ]
  },
  {
   "cell_type": "code",
   "execution_count": null,
   "metadata": {},
   "outputs": [],
   "source": [
    "import pandas as pd   \t#加载数据分析包\n",
    "pd.Series()           \t#生成空序列"
   ]
  },
  {
   "cell_type": "code",
   "execution_count": null,
   "metadata": {},
   "outputs": [],
   "source": [
    "X=[1,3,6,4,9]\n",
    "S1=pd.Series(X);S1\n",
    "S2=pd.Series(weight);S2\n",
    "S3=pd.Series(sex);S3"
   ]
  },
  {
   "cell_type": "code",
   "execution_count": null,
   "metadata": {},
   "outputs": [],
   "source": [
    "pd.concat([S2,S3],axis=0)    #按行并序列\n",
    "pd.concat([S2,S3],axis=1)    #按列并序列"
   ]
  },
  {
   "cell_type": "code",
   "execution_count": null,
   "metadata": {},
   "outputs": [],
   "source": [
    "S1[2]\n",
    "S3[1:4]"
   ]
  },
  {
   "cell_type": "markdown",
   "metadata": {},
   "source": [
    "### 3.3.2  数据框：DataFrame"
   ]
  },
  {
   "cell_type": "code",
   "execution_count": null,
   "metadata": {},
   "outputs": [],
   "source": [
    "pd.DataFrame()      #生成空数据框"
   ]
  },
  {
   "cell_type": "code",
   "execution_count": null,
   "metadata": {},
   "outputs": [],
   "source": [
    "pd.DataFrame(X)\n",
    "pd.DataFrame(X, columns=['X'], index=range(5))\n",
    "pd.DataFrame(weight,columns=['weight'], index=['A','B','C','D','E'])"
   ]
  },
  {
   "cell_type": "code",
   "execution_count": null,
   "metadata": {},
   "outputs": [],
   "source": [
    "df1=pd.DataFrame({'S1':S1,'S2':S2,'S3':S3}); df1"
   ]
  },
  {
   "cell_type": "code",
   "execution_count": null,
   "metadata": {},
   "outputs": [],
   "source": [
    "df2=pd.DataFrame({'sex':sex,'weight':weight},index=X);df2"
   ]
  },
  {
   "cell_type": "code",
   "execution_count": null,
   "metadata": {},
   "outputs": [],
   "source": [
    "df2['weight2']=df2['weight']**2; df2 \t# 生成新列"
   ]
  },
  {
   "cell_type": "code",
   "execution_count": null,
   "metadata": {},
   "outputs": [],
   "source": [
    "del df2['weight2']; df2   \t\t\t# 删除数据列"
   ]
  },
  {
   "cell_type": "code",
   "execution_count": null,
   "metadata": {},
   "outputs": [],
   "source": [
    "df3=pd.DataFrame({'S2':S2,'S3':S3},index=S1);df3"
   ]
  },
  {
   "cell_type": "code",
   "execution_count": null,
   "metadata": {},
   "outputs": [],
   "source": [
    "df3.isnull()        \t\t\t#是缺失值则返回True，否则返回False"
   ]
  },
  {
   "cell_type": "code",
   "execution_count": null,
   "metadata": {},
   "outputs": [],
   "source": [
    "df3.dropna()       \t\t\t#直接删除含有缺失值的行，多变量谨慎使用"
   ]
  },
  {
   "cell_type": "code",
   "execution_count": null,
   "metadata": {},
   "outputs": [],
   "source": [
    "df3.sort_index()         \t\t#按index排序"
   ]
  },
  {
   "cell_type": "code",
   "execution_count": null,
   "metadata": {},
   "outputs": [],
   "source": [
    "df3.sort_values(by='S3')   \t\t#按列值排序"
   ]
  },
  {
   "cell_type": "markdown",
   "metadata": {},
   "source": [
    "### 3.3.3  数据框的读写\n",
    "#3.3.3.1  pandas读取数据集\n",
    "#（1）从剪切板上读取"
   ]
  },
  {
   "cell_type": "code",
   "execution_count": null,
   "metadata": {},
   "outputs": [],
   "source": [
    "BSdata=pd.read_clipboard();  #从剪切板上复制数据\n",
    "BSdata[:5]                   #BSdata.head() 见下节"
   ]
  },
  {
   "cell_type": "code",
   "execution_count": null,
   "metadata": {},
   "outputs": [],
   "source": [
    "BSdata=pd.read_csv(\"BSdata.csv\",encoding='utf-8')  #注意中文格式\n",
    "BSdata[6:9]"
   ]
  },
  {
   "cell_type": "markdown",
   "metadata": {
    "extensions": {
     "jupyter_dashboards": {
      "version": 1,
      "views": {
       "grid_default": {
        "hidden": true
       },
       "report_default": {}
      }
     }
    },
    "toc-hr-collapsed": true
   },
   "source": [
    "# 4 探索性数据分析"
   ]
  },
  {
   "cell_type": "markdown",
   "metadata": {
    "extensions": {
     "jupyter_dashboards": {
      "version": 1,
      "views": {
       "grid_default": {
        "hidden": true
       },
       "report_default": {}
      }
     }
    },
    "toc-hr-collapsed": true
   },
   "source": [
    "# 5 数据可视化分析"
   ]
  },
  {
   "cell_type": "markdown",
   "metadata": {
    "extensions": {
     "jupyter_dashboards": {
      "version": 1,
      "views": {
       "grid_default": {
        "hidden": true
       },
       "report_default": {}
      }
     }
    }
   },
   "source": [
    "## 5.1 特殊统计图绘制"
   ]
  },
  {
   "cell_type": "code",
   "execution_count": null,
   "metadata": {
    "extensions": {
     "jupyter_dashboards": {
      "version": 1,
      "views": {
       "grid_default": {
        "hidden": true
       },
       "report_default": {}
      }
     }
    }
   },
   "outputs": [],
   "source": [
    "### 5.1.1 数学函数图\n",
    "#（1）初等函数\n",
    "import math\n",
    "x=np.linspace(0,2*math.pi);x  #[0,2*pi]序列\n",
    "fig,ax=plt.subplots(2,2,figsize=(12,10));\n",
    "ax[0,0].plot(x,np.sin(x));\n",
    "ax[0,1].plot(x,np.cos(x));\n",
    "ax[1,0].plot(x,np.log(x+1));\n",
    "ax[1,1].plot(x,np.exp(x));"
   ]
  },
  {
   "cell_type": "code",
   "execution_count": null,
   "metadata": {
    "extensions": {
     "jupyter_dashboards": {
      "version": 1,
      "views": {
       "grid_default": {
        "hidden": true
       },
       "report_default": {}
      }
     }
    }
   },
   "outputs": [],
   "source": [
    "#（2）极坐标图（加公式）\n",
    "t=np.linspace(0,2*math.pi)\n",
    "x=2*np.sin(t);y=3*np.cos(t)\n",
    "plt.plot(x,y);plt.text(0,0,r'$\\frac{x^2}{2}+\\frac{y^2}{3}=1$',fontsize=15);"
   ]
  },
  {
   "cell_type": "code",
   "execution_count": null,
   "metadata": {
    "extensions": {
     "jupyter_dashboards": {
      "version": 1,
      "views": {
       "grid_default": {
        "hidden": true
       },
       "report_default": {}
      }
     }
    }
   },
   "outputs": [],
   "source": [
    "#（3）三维曲面图\n",
    "from mpl_toolkits.mplot3d import Axes3D\n",
    "fig = plt.figure();ax = Axes3D(fig)\n",
    "X=np.linspace(-4,4,20) #X = np.arange(-4, 4, 0.5);\n",
    "Y=np.linspace(-4,4,20) #Y = np.arange(-4, 4, 0.5)\n",
    "X, Y = np.meshgrid(X, Y);Z = np.sqrt(X**2 + Y**2)\n",
    "ax.plot_surface(X, Y, Z);"
   ]
  },
  {
   "cell_type": "code",
   "execution_count": null,
   "metadata": {
    "extensions": {
     "jupyter_dashboards": {
      "version": 1,
      "views": {
       "grid_default": {
        "hidden": true
       },
       "report_default": {}
      }
     }
    }
   },
   "outputs": [],
   "source": [
    "#气泡图\n",
    "plt.scatter(BSdata['身高'], BSdata['体重'], s=BSdata['支出']);\n",
    "#三维三点图\n",
    "from mpl_toolkits.mplot3d import Axes3D\n",
    "fig = plt.figure();ax = Axes3D(fig);\n",
    "ax.scatter(BSdata['身高'], BSdata['体重'], BSdata['支出']);"
   ]
  },
  {
   "cell_type": "code",
   "execution_count": null,
   "metadata": {
    "extensions": {
     "jupyter_dashboards": {
      "version": 1,
      "views": {
       "grid_default": {
        "hidden": true
       },
       "report_default": {}
      }
     }
    }
   },
   "outputs": [],
   "source": [
    "#2.3.1.6 统计地图\n",
    "#pip3 install https://github.com/matplotlib/basemap/archive/v1.1.0.tar.gz\n",
    "#from mpl_toolkits.basemap import Basemap\n",
    "#plt.figure(figsize=(16,8))\n",
    "#m = Basemap()\n",
    "#m.drawcoastlines()"
   ]
  },
  {
   "cell_type": "markdown",
   "metadata": {
    "extensions": {
     "jupyter_dashboards": {
      "version": 1,
      "views": {
       "grid_default": {
        "hidden": true
       },
       "report_default": {}
      }
     }
    }
   },
   "source": [
    "## 5.2 Seaborn统计绘图"
   ]
  },
  {
   "cell_type": "code",
   "execution_count": null,
   "metadata": {
    "extensions": {
     "jupyter_dashboards": {
      "version": 1,
      "views": {
       "grid_default": {
        "hidden": true
       },
       "report_default": {}
      }
     }
    }
   },
   "outputs": [],
   "source": [
    "import seaborn as sns\n",
    "#（1）箱线图boxplot\n",
    "# 绘制箱线图\n",
    "sns.boxplot(x=BSdata['身高'])\n",
    "# 竖着放的箱线图，也就是将x换成y\n",
    "sns.boxplot(y=BSdata['身高'])\n",
    "# 分组绘制箱线图，分组因子是性别，在x轴不同位置绘制\n",
    "sns.boxplot(x='性别', y='身高',data=BSdata)\n",
    "# 分组箱线图，分子因子是smoker，不同的因子用不同颜色区分, 相当于分组之后又分组\n",
    "sns.boxplot(x='开设', y='支出',hue='性别',data=BSdata)"
   ]
  },
  {
   "cell_type": "code",
   "execution_count": null,
   "metadata": {
    "extensions": {
     "jupyter_dashboards": {
      "version": 1,
      "views": {
       "grid_default": {
        "hidden": true
       },
       "report_default": {}
      }
     }
    }
   },
   "outputs": [],
   "source": [
    "#（2）小提琴图violinplot\n",
    "sns.violinplot(x='性别', y='身高',data=BSdata);"
   ]
  },
  {
   "cell_type": "code",
   "execution_count": null,
   "metadata": {
    "extensions": {
     "jupyter_dashboards": {
      "version": 1,
      "views": {
       "grid_default": {
        "hidden": true
       },
       "report_default": {}
      }
     }
    }
   },
   "outputs": [],
   "source": [
    "sns.violinplot(x='开设', y='支出',hue='性别',data=BSdata);"
   ]
  },
  {
   "cell_type": "code",
   "execution_count": null,
   "metadata": {
    "extensions": {
     "jupyter_dashboards": {
      "version": 1,
      "views": {
       "grid_default": {
        "hidden": true
       },
       "report_default": {}
      }
     }
    }
   },
   "outputs": [],
   "source": [
    "#（3）散点图striplot\n",
    "sns.stripplot(x='性别', y='身高',data=BSdata)\n",
    "sns.stripplot(x='性别', y='身高',data=BSdata,jitter=True)\n",
    "sns.stripplot(y='性别', x='身高',data=BSdata,jitter=True)\n",
    "\n",
    "#（4）条图barplot\n",
    "sns.barplot(x='性别', y='身高',data=BSdata,ci=0,palette=\"Blues_d\")\n",
    "\n",
    "#（5）计数的直方图countplot\n",
    "# 分组绘图\n",
    "sns.countplot(x='性别',data=BSdata)\n",
    "sns.countplot(y='开设',data=BSdata)\n",
    "sns.countplot(x='性别',hue=\"开设\",data=BSdata)\n",
    "\n",
    "#（6）两变量关系图factorplot\n",
    "# 不同的deck（因子）绘制不同的alive（数值），col为分子图绘制，col_wrap每行画4个子图\n",
    "sns.factorplot(x='性别',col=\"开设\", col_wrap=3,data=BSdata, kind=\"count\", size=2.5, aspect=.8)\n",
    "#（7）概率分布图\n",
    "sns.distplot(BSdata['身高'], kde=True, bins=20, rug=True);\n",
    "\n",
    "sns.jointplot(x='身高', y='体重', data=BSdata);\n",
    "\n",
    "sns.pairplot(BSdata[['身高','体重','支出']]);"
   ]
  },
  {
   "cell_type": "markdown",
   "metadata": {
    "extensions": {
     "jupyter_dashboards": {
      "version": 1,
      "views": {
       "grid_default": {
        "hidden": true
       },
       "report_default": {}
      }
     }
    }
   },
   "source": [
    "## 5.3 ggplot绘图系统"
   ]
  },
  {
   "cell_type": "code",
   "execution_count": null,
   "metadata": {
    "extensions": {
     "jupyter_dashboards": {
      "version": 1,
      "views": {
       "grid_default": {
        "hidden": true
       },
       "report_default": {}
      }
     }
    }
   },
   "outputs": [],
   "source": [
    "!pip install ggplot"
   ]
  },
  {
   "cell_type": "code",
   "execution_count": null,
   "metadata": {
    "extensions": {
     "jupyter_dashboards": {
      "version": 1,
      "views": {
       "grid_default": {
        "hidden": true
       },
       "report_default": {}
      }
     }
    }
   },
   "outputs": [],
   "source": [
    "from ggplot import *    #加载和调用ggplot所有方法"
   ]
  },
  {
   "cell_type": "code",
   "execution_count": null,
   "metadata": {
    "extensions": {
     "jupyter_dashboards": {
      "version": 1,
      "views": {
       "grid_default": {
        "hidden": true
       },
       "report_default": {}
      }
     }
    }
   },
   "outputs": [],
   "source": [
    "#（1）直方图\n",
    "qplot('身高',data=BSdata, geom='histogram')"
   ]
  },
  {
   "cell_type": "code",
   "execution_count": null,
   "metadata": {
    "extensions": {
     "jupyter_dashboards": {
      "version": 1,
      "views": {
       "grid_default": {
        "hidden": true
       },
       "report_default": {}
      }
     }
    }
   },
   "outputs": [],
   "source": [
    "#（2）条形图\n",
    "qplot('开设',data=BSdata, geom='bar')\n",
    "#（3）散点图\n",
    "qplot('身高','体重',data=BSdata,color='性别')\n",
    "qplot('身高','体重',data=BSdata,color='性别',size='性别')\n",
    "\n",
    "\n",
    "###5.3.2 ggplot基本绘图\n",
    "#（2）图层的概念\n",
    "GP=ggplot(aes(x='身高',y='体重'),data=BSdata);GP #绘制直角坐标系\n",
    "GP + geom_point()                  #增加点图\n",
    "GP + geom_line()                   #增加线图\n",
    "\n",
    "ggplot(BSdata,aes(x='身高',y='体重')) + geom_point() + geom_line()\n",
    "ggplot(BSdata,aes(x='身高',y='体重',color='性别'))+geom_point()+theme_bw()\n",
    "\n",
    "#（4）常见统计图\n",
    "ggplot(BSdata,aes(x='身高'))+ geom_histogram()\n",
    "\n",
    "ggplot(BSdata,aes(x='支出'))+geom_line(aes(y='身高'))\n",
    "ggplot(BSdata,aes(x='支出'))+geom_line(aes(y='身高'))+geom_line(aes(y='体重'))\n",
    "ggplot(BSdata,aes(x='身高')) + geom_histogram() + facet_wrap('性别')\n",
    "\n",
    "ggplot(BSdata,aes(x='身高',y='体重')) + geom_point()\n",
    "ggplot(BSdata,aes(x='身高',y='体重',color='性别'))+geom_point()\n",
    "ggplot(BSdata,aes(x='身高',y='体重',color='性别'))+geom_point()+theme_bw()\n",
    "\n",
    "ggplot(BSdata,aes(x='身高',y='体重',size='开设',colour='性别'))+geom_point()\n",
    "ggplot(BSdata,aes(x='身高',colour='性别',fill='True')) + geom_density()\n",
    "ggplot(BSdata,aes(x='身高',y='体重')) + geom_point() + facet_wrap('性别')\n",
    "\n",
    "ggplot(BSdata,aes(x=' 身高',y=' 体重',color=' 性别'))+geom_point()+theme_bw()"
   ]
  },
  {
   "cell_type": "markdown",
   "metadata": {
    "extensions": {
     "jupyter_dashboards": {
      "version": 1,
      "views": {
       "grid_default": {
        "hidden": true
       },
       "report_default": {}
      }
     }
    },
    "toc-hr-collapsed": true
   },
   "source": [
    "# 6 数据的统计分析\n",
    "# 7 数据的模型分析\n",
    "# 8 数据的预测分析\n",
    "# 9 数据的决策分析\n",
    "# 10 数据的案例分析"
   ]
  },
  {
   "cell_type": "markdown",
   "metadata": {},
   "source": [
    "## 10.1 网上数据获取与保存\n",
    "### 10.1.1 网上数据的获取"
   ]
  },
  {
   "cell_type": "code",
   "execution_count": null,
   "metadata": {},
   "outputs": [],
   "source": [
    "# !pip install tushare"
   ]
  },
  {
   "cell_type": "code",
   "execution_count": null,
   "metadata": {},
   "outputs": [],
   "source": [
    "import tushare as ts   #python财经数据接口包 http://tushare.org"
   ]
  },
  {
   "cell_type": "code",
   "execution_count": null,
   "metadata": {},
   "outputs": [],
   "source": [
    "#沪深上市公司基本情况分析\n",
    "s_b=ts.get_stock_basics();\n",
    "s_b.info()"
   ]
  },
  {
   "cell_type": "code",
   "execution_count": null,
   "metadata": {},
   "outputs": [],
   "source": [
    "s_b.iloc[:,:8].head()"
   ]
  },
  {
   "cell_type": "markdown",
   "metadata": {},
   "source": [
    "### 10.1.2 在线股票数据分析"
   ]
  },
  {
   "cell_type": "code",
   "execution_count": null,
   "metadata": {},
   "outputs": [],
   "source": [
    "s_b.area.value_counts()[:20]"
   ]
  },
  {
   "cell_type": "code",
   "execution_count": null,
   "metadata": {},
   "outputs": [],
   "source": [
    "s_b.area.value_counts()[:10].plot(kind='barh');  #前10个地区"
   ]
  },
  {
   "cell_type": "code",
   "execution_count": null,
   "metadata": {},
   "outputs": [],
   "source": [
    "s_b.industry.value_counts()[:20]"
   ]
  },
  {
   "cell_type": "code",
   "execution_count": null,
   "metadata": {},
   "outputs": [],
   "source": [
    "s_b.industry.value_counts()[:10].plot(kind='barh'); #前20个行业分布"
   ]
  },
  {
   "cell_type": "code",
   "execution_count": null,
   "metadata": {},
   "outputs": [],
   "source": [
    "s_b.groupby(['industry'])[['pe','pb','esp','gpr','npr']].mean()[:10]"
   ]
  },
  {
   "cell_type": "code",
   "execution_count": null,
   "metadata": {},
   "outputs": [],
   "source": [
    "esp_ind=s_b.groupby(['industry'])['esp'].mean();esp_ind #按行业(industry)计算平均收益率(esp)"
   ]
  },
  {
   "cell_type": "code",
   "execution_count": null,
   "metadata": {},
   "outputs": [],
   "source": [
    "esp_ind.sort_values().head(10) #收益率最差的10个行业\n",
    "esp_ind.sort_values().head(10).plot(kind='bar')"
   ]
  },
  {
   "cell_type": "code",
   "execution_count": null,
   "metadata": {},
   "outputs": [],
   "source": [
    "esp_ind.sort_values().tail(10) #收益率最好的10个行业\n",
    "esp_ind.sort_values().tail(10).plot(kind='bar')"
   ]
  },
  {
   "cell_type": "code",
   "execution_count": null,
   "metadata": {},
   "outputs": [],
   "source": []
  },
  {
   "cell_type": "code",
   "execution_count": null,
   "metadata": {},
   "outputs": [],
   "source": [
    "#按地区(area)和行业(industry)计算平均收益率(esp)  #,gpr(毛利率(%)),npr(净利润率(%)),pe(市盈率)\n",
    "esp_ind_area=s_b.groupby(['area','industry'])['esp'].mean(); esp_ind_area"
   ]
  },
  {
   "cell_type": "code",
   "execution_count": null,
   "metadata": {},
   "outputs": [],
   "source": [
    "esp_ind_area['广东'].sort_values().head(10) #广东省收益率最差的10个行业\n",
    "esp_ind_area['广东'].sort_values().tail(10) #广东省收益率最好的10个行业\n",
    "#s_b.pivot_table('esp','industry','area',aggfunc=[np.mean])"
   ]
  },
  {
   "cell_type": "markdown",
   "metadata": {},
   "source": [
    "### 10.1.3 新股发行数据分析"
   ]
  },
  {
   "cell_type": "code",
   "execution_count": null,
   "metadata": {},
   "outputs": [],
   "source": [
    "n_s=ts.new_stocks();\n",
    "n_s.info()"
   ]
  },
  {
   "cell_type": "code",
   "execution_count": null,
   "metadata": {},
   "outputs": [],
   "source": [
    "n_s18=n_s.loc[n_s.ipo_date>='2018',];n_s18  #2018年6月14日前发行的新股"
   ]
  },
  {
   "cell_type": "code",
   "execution_count": null,
   "metadata": {},
   "outputs": [],
   "source": [
    "n_s18.sort_values(by='amount').iloc[-10:,:6]  #18年6月14日前发行量最大的10只新股"
   ]
  },
  {
   "cell_type": "code",
   "execution_count": null,
   "metadata": {},
   "outputs": [],
   "source": [
    "n_s18.sort_values(by='ballot').iloc[-10:,[0,1,2,3,4,5,11]] #18年6月1日前中签率最高的10只新股\n",
    "plt.plot(n_s18.amount,n_s18.ballot,'o'); #发行量和中签率之间的散点图\n",
    "n_s18.amount.corr(n_s18.ballot)          #发行量和中签率之间的相关系数"
   ]
  },
  {
   "cell_type": "markdown",
   "metadata": {},
   "source": [
    "## 10.2 证券交易数据的分析\n",
    "### 10.2.1 历史行情数据分析"
   ]
  },
  {
   "cell_type": "code",
   "execution_count": null,
   "metadata": {},
   "outputs": [],
   "source": [
    "h_s=ts.get_hist_data('hs300')  #沪深300指数近三年的历史行情数据\n",
    "#ts.get_hist_data('h_s300',start='2018-01-01',end='2018-12-31') #指定时间区间\n",
    "h_s.info()\n",
    "h_s.columns\n",
    "h_s.head()\n",
    "h_s.sort_index(inplace=True); #按时间排序\n",
    "h_s.head()\n",
    "h_s['close'].to_csv('hs300.csv')\n",
    "\n",
    "h_s['close'].plot()\n",
    "h_s['volume'].plot()\n",
    "h_s['price_change'].plot().axhline(y=0,color='red')\n",
    "h_s['p_change'].plot().axhline(y=0,color='red')\n",
    "\n",
    "h_s[['open','close']].plot()\n",
    "h_s[['open','close','high','low']].plot()\n",
    "h_s[['close','ma5','ma10','ma20']].plot()"
   ]
  },
  {
   "cell_type": "markdown",
   "metadata": {},
   "source": [
    "### 10.2.2 实时行情数据分析"
   ]
  },
  {
   "cell_type": "code",
   "execution_count": null,
   "metadata": {},
   "outputs": [],
   "source": [
    "t_a=ts.get_today_all()\n",
    "t_a.info()\n",
    "t_a.head()"
   ]
  },
  {
   "cell_type": "code",
   "execution_count": null,
   "metadata": {},
   "outputs": [],
   "source": [
    "down=t_a['changepercent'].sort_values().head(10).index #跌幅最大的10个行业\n",
    "t_a.loc[down,['code','name','changepercent','trade','settlement','turnoverratio']]\n",
    "up=t_a['changepercent'].sort_values().tail(10).index   #涨幅最大的10个行业\n",
    "t_a.loc[up,['code','name','changepercent','trade','settlement','turnoverratio']]"
   ]
  },
  {
   "cell_type": "markdown",
   "metadata": {},
   "source": [
    "### 10.2.3 大单交易数据分析"
   ]
  },
  {
   "cell_type": "code",
   "execution_count": null,
   "metadata": {},
   "outputs": [],
   "source": [
    "s_d=ts.get_sina_dd('002024', date='2018-5-30',vol=400) #默认400手\n",
    "s_d.info()\n",
    "s_d.head(10)\n",
    "da.tab(s_d['type'])\n",
    "s_d['type'].value_counts().plot(kind='pie');"
   ]
  },
  {
   "cell_type": "markdown",
   "metadata": {},
   "source": [
    "### 10.2.4 公司盈利能力分析"
   ]
  },
  {
   "cell_type": "code",
   "execution_count": null,
   "metadata": {},
   "outputs": [],
   "source": [
    "p_d=ts.get_profit_data(2018,1);p_d   #获取2018年第1季度的盈利能力数据\n",
    "p_d.info()\n",
    "p_d.columns=['代码','名称','净收益率','净利润率','毛利润率','净利润额','每股收益','营业收入','主营收入']\n",
    "round(p_d.head(10),3)\n",
    "round(p_d.describe(),2) #基本统计分析\n",
    "round(p_d.corr(),3)     #相关性分析"
   ]
  },
  {
   "cell_type": "markdown",
   "metadata": {},
   "source": [
    "### 10.2.5 公司现金流量分析"
   ]
  },
  {
   "cell_type": "code",
   "execution_count": null,
   "metadata": {},
   "outputs": [],
   "source": [
    "c_a=ts.get_c_ashflow_data(2018,1)  #获取2018年第1季度的现金流量数据\n",
    "c_a.info()\n",
    "c_a.head()\n",
    "st=c_a['name'].str[:3]=='*ST'  #选取ST公司\n",
    "c_a.loc[st,].sort_values(by='c_ashflowratio').head(10)  #现金流量比率最差的10家ST公司\n",
    "c_a.loc[st,].sort_values(by='cashflowratio').tail(10)  #现金流量比率最好的10家ST公司"
   ]
  },
  {
   "cell_type": "markdown",
   "metadata": {},
   "source": [
    "## 10.3 宏观经济数据的实证分析\n",
    "### 10.3.1 存款利率变动分析"
   ]
  },
  {
   "cell_type": "code",
   "execution_count": null,
   "metadata": {},
   "outputs": [],
   "source": [
    "d_r=ts.get_deposit_rate()\n",
    "d_r.info()\n",
    "d_r\n",
    "d_r.deposit_type.value_counts()\n",
    "dr1=d_r[d_r.deposit_type=='活期存款(不定期)'].sort_values(by='date');\n",
    "dr1.index=dr1.date.str[:7];dr1\n",
    "dr2=d_r[d_r.deposit_type=='定期存款整存整取(一年)'].sort_values(by='date');\n",
    "dr2.index=dr2.date.str[:7];dr2\n",
    "dr3=pd.concat([dr1.rate.astype(float),dr2.rate.astype(float)],axis=1);\n",
    "dr3.columns=['活期存款(不定期)','整存整取(一年)'];dr3\n",
    "dr3.plot(secondary_y='整存整取(一年)');"
   ]
  },
  {
   "cell_type": "markdown",
   "metadata": {},
   "source": [
    "### 10.3.2 国内生产总值GDP分析"
   ]
  },
  {
   "cell_type": "code",
   "execution_count": null,
   "metadata": {},
   "outputs": [],
   "source": [
    "g_y=ts.get_gdp_year()  ## 国内生产总值(年度)\n",
    "g_y.info()\n",
    "g_y.head()\n",
    "#g_y.index=g_y.year\n",
    "#g_y.drop(['year'],axis=1,inplace=True)\n",
    "#g_y.sort_index(inplace=True) #\n",
    "g_y.sort_values(by='year',inplace=True)\n",
    "g_y.head()\n",
    "plt.plot(g_y.year,g_y.g_y)\n",
    "\n",
    "g_y1=g_y[g_y.year>=1990];g_y1\n",
    "plt.plot(g_y1.year,g_y1.g_y)\n",
    "g_y1[['pi','si','ti']].plot(g_y1.year,kind='bar')"
   ]
  },
  {
   "cell_type": "markdown",
   "metadata": {},
   "source": [
    "### 10.3.3 工业品出厂价格指数分析"
   ]
  },
  {
   "cell_type": "code",
   "execution_count": null,
   "metadata": {},
   "outputs": [],
   "source": [
    "g_p=ts.get_ppi()\n",
    "g_p.info()\n",
    "g_p\n",
    "g_p.sort_values(by='month',inplace=True)\n",
    "g_p.plot(g_p.month);\n",
    "#工业品价格指数\n",
    "g_p1=g_p[['month','ppiip','ppi','qm','rmi','pi']].dropna()\n",
    "g_p1.plot(g_p1.month);\n",
    "#生活价格指数\n",
    "g_p2=g_p[['month','cg','food','clothing','roeu','dcg']].dropna();g_p2\n",
    "g_p2.plot(g_p2.month,grid=True)"
   ]
  },
  {
   "cell_type": "markdown",
   "metadata": {},
   "source": [
    "## 10.4 电影票房数据的实时分析"
   ]
  },
  {
   "cell_type": "markdown",
   "metadata": {},
   "source": [
    "### 10.4.1 实时票房"
   ]
  },
  {
   "cell_type": "code",
   "execution_count": null,
   "metadata": {},
   "outputs": [],
   "source": [
    "#获取实时电影票房数据，30分钟更新一次票房数据，可随时调用。\n",
    "r_b = ts.realtime_boxoffice()\n",
    "r_b.info()\n",
    "r_b"
   ]
  },
  {
   "cell_type": "code",
   "execution_count": null,
   "metadata": {},
   "outputs": [],
   "source": [
    "plt.barh(r_b.MovieName,r_b.BoxOffice.astype(float));\n",
    "plt.pie(r_b.boxPer,labels=r_b.MovieName);"
   ]
  },
  {
   "cell_type": "markdown",
   "metadata": {},
   "source": [
    "### 10.4.2 每日票房"
   ]
  },
  {
   "cell_type": "code",
   "execution_count": null,
   "metadata": {},
   "outputs": [],
   "source": [
    "d_b = ts.day_boxoffice() #取上一日的数据\n",
    "d_b.index"
   ]
  },
  {
   "cell_type": "markdown",
   "metadata": {},
   "source": [
    "### 10.4.3 影院日度票房"
   ]
  },
  {
   "cell_type": "code",
   "execution_count": null,
   "metadata": {},
   "outputs": [],
   "source": [
    "#获取全国影院单日票房排行数据，默认为上一日，可输入日期参数获取指定日期的数据。\n",
    "d_c=ts.day_cinema() #取上一日全国影院票房排行数据\n",
    "d_c.info()\n",
    "\n",
    "d_c[:10]\n",
    "plt.barh(d_c.CinemaName[:10],d_c.Attendance.astype(float)[:10]);"
   ]
  }
 ],
 "metadata": {
  "extensions": {
   "jupyter_dashboards": {
    "activeView": "grid_default",
    "version": 1,
    "views": {
     "grid_default": {
      "cellMargin": 10,
      "defaultCellHeight": 20,
      "maxColumns": 12,
      "name": "grid",
      "type": "grid"
     },
     "report_default": {
      "name": "report",
      "type": "report"
     }
    }
   }
  },
  "hide_input": false,
  "kernelspec": {
   "display_name": "Python 3",
   "language": "python",
   "name": "python3"
  },
  "language_info": {
   "codemirror_mode": {
    "name": "ipython",
    "version": 3
   },
   "file_extension": ".py",
   "mimetype": "text/x-python",
   "name": "python",
   "nbconvert_exporter": "python",
   "pygments_lexer": "ipython3",
   "version": "3.7.1"
  },
  "toc": {
   "base_numbering": 1,
   "nav_menu": {
    "height": "236px",
    "width": "358px"
   },
   "number_sections": false,
   "sideBar": false,
   "skip_h1_title": false,
   "title_cell": "Table of Contents",
   "title_sidebar": "数字化多媒体教程之",
   "toc_cell": false,
   "toc_position": {
    "height": "139.4px",
    "left": "530px",
    "top": "61.4px",
    "width": "278px"
   },
   "toc_section_display": false,
   "toc_window_display": true
  },
  "toc-autonumbering": false,
  "toc-showcode": false,
  "toc-showtags": false,
  "varInspector": {
   "cols": {
    "lenName": 16,
    "lenType": 16,
    "lenVar": 40
   },
   "kernels_config": {
    "python": {
     "delete_cmd_postfix": "",
     "delete_cmd_prefix": "del ",
     "library": "var_list.py",
     "varRefreshCmd": "print(var_dic_list())"
    },
    "r": {
     "delete_cmd_postfix": ") ",
     "delete_cmd_prefix": "rm(",
     "library": "var_list.r",
     "varRefreshCmd": "cat(var_dic_list()) "
    }
   },
   "position": {
    "height": "144px",
    "left": "916px",
    "right": "20px",
    "top": "573px",
    "width": "350px"
   },
   "types_to_exclude": [
    "module",
    "function",
    "builtin_function_or_method",
    "instance",
    "_Feature"
   ],
   "window_display": false
  }
 },
 "nbformat": 4,
 "nbformat_minor": 2
}
